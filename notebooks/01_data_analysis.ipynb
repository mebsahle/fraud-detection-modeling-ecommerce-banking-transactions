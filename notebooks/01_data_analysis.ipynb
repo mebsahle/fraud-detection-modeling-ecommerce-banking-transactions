{
 "cells": [
  {
   "cell_type": "code",
   "execution_count": 2,
   "id": "edb97345",
   "metadata": {},
   "outputs": [],
   "source": [
    "# Section 0: Install Required Packages\n",
    "# Run this once at the start of the notebook\n",
    "\n",
    "!pip install pandas numpy matplotlib seaborn scikit-learn imbalanced-learn --quiet"
   ]
  },
  {
   "cell_type": "code",
   "execution_count": 3,
   "id": "1e6c885a",
   "metadata": {},
   "outputs": [],
   "source": [
    "# Section 1: Setup & Imports\n",
    "\n",
    "import pandas as pd\n",
    "import numpy as np\n",
    "import matplotlib.pyplot as plt\n",
    "import seaborn as sns\n",
    "from datetime import datetime\n",
    "from sklearn.preprocessing import StandardScaler\n",
    "from imblearn.over_sampling import SMOTE\n",
    "import os\n",
    "\n",
    "# Ensure output directories exist\n",
    "os.makedirs(\"data/processed\", exist_ok=True)"
   ]
  },
  {
   "cell_type": "code",
   "execution_count": 11,
   "id": "e4e1d373",
   "metadata": {},
   "outputs": [
    {
     "name": "stdout",
     "output_type": "stream",
     "text": [
      "📄 Fraud data shape: (151112, 11)\n",
      "📄 IP-to-country data shape: (138846, 3)\n"
     ]
    },
    {
     "data": {
      "application/vnd.microsoft.datawrangler.viewer.v0+json": {
       "columns": [
        {
         "name": "index",
         "rawType": "int64",
         "type": "integer"
        },
        {
         "name": "user_id",
         "rawType": "int64",
         "type": "integer"
        },
        {
         "name": "signup_time",
         "rawType": "object",
         "type": "string"
        },
        {
         "name": "purchase_time",
         "rawType": "object",
         "type": "string"
        },
        {
         "name": "purchase_value",
         "rawType": "int64",
         "type": "integer"
        },
        {
         "name": "device_id",
         "rawType": "object",
         "type": "string"
        },
        {
         "name": "source",
         "rawType": "object",
         "type": "string"
        },
        {
         "name": "browser",
         "rawType": "object",
         "type": "string"
        },
        {
         "name": "sex",
         "rawType": "object",
         "type": "string"
        },
        {
         "name": "age",
         "rawType": "int64",
         "type": "integer"
        },
        {
         "name": "ip_address",
         "rawType": "float64",
         "type": "float"
        },
        {
         "name": "class",
         "rawType": "int64",
         "type": "integer"
        }
       ],
       "ref": "122bfc20-308d-4714-ac72-29c2fe947289",
       "rows": [
        [
         "0",
         "22058",
         "2015-02-24 22:55:49",
         "2015-04-18 02:47:11",
         "34",
         "QVPSPJUOCKZAR",
         "SEO",
         "Chrome",
         "M",
         "39",
         "732758368.79972",
         "0"
        ],
        [
         "1",
         "333320",
         "2015-06-07 20:39:50",
         "2015-06-08 01:38:54",
         "16",
         "EOGFQPIZPYXFZ",
         "Ads",
         "Chrome",
         "F",
         "53",
         "350311387.865908",
         "0"
        ],
        [
         "2",
         "1359",
         "2015-01-01 18:52:44",
         "2015-01-01 18:52:45",
         "15",
         "YSSKYOSJHPPLJ",
         "SEO",
         "Opera",
         "M",
         "53",
         "2621473820.11095",
         "1"
        ],
        [
         "3",
         "150084",
         "2015-04-28 21:13:25",
         "2015-05-04 13:54:50",
         "44",
         "ATGTXKYKUDUQN",
         "SEO",
         "Safari",
         "M",
         "41",
         "3840542443.91396",
         "0"
        ],
        [
         "4",
         "221365",
         "2015-07-21 07:09:52",
         "2015-09-09 18:40:53",
         "39",
         "NAUITBZFJKHWW",
         "Ads",
         "Safari",
         "M",
         "45",
         "415583117.452712",
         "0"
        ]
       ],
       "shape": {
        "columns": 11,
        "rows": 5
       }
      },
      "text/html": [
       "<div>\n",
       "<style scoped>\n",
       "    .dataframe tbody tr th:only-of-type {\n",
       "        vertical-align: middle;\n",
       "    }\n",
       "\n",
       "    .dataframe tbody tr th {\n",
       "        vertical-align: top;\n",
       "    }\n",
       "\n",
       "    .dataframe thead th {\n",
       "        text-align: right;\n",
       "    }\n",
       "</style>\n",
       "<table border=\"1\" class=\"dataframe\">\n",
       "  <thead>\n",
       "    <tr style=\"text-align: right;\">\n",
       "      <th></th>\n",
       "      <th>user_id</th>\n",
       "      <th>signup_time</th>\n",
       "      <th>purchase_time</th>\n",
       "      <th>purchase_value</th>\n",
       "      <th>device_id</th>\n",
       "      <th>source</th>\n",
       "      <th>browser</th>\n",
       "      <th>sex</th>\n",
       "      <th>age</th>\n",
       "      <th>ip_address</th>\n",
       "      <th>class</th>\n",
       "    </tr>\n",
       "  </thead>\n",
       "  <tbody>\n",
       "    <tr>\n",
       "      <th>0</th>\n",
       "      <td>22058</td>\n",
       "      <td>2015-02-24 22:55:49</td>\n",
       "      <td>2015-04-18 02:47:11</td>\n",
       "      <td>34</td>\n",
       "      <td>QVPSPJUOCKZAR</td>\n",
       "      <td>SEO</td>\n",
       "      <td>Chrome</td>\n",
       "      <td>M</td>\n",
       "      <td>39</td>\n",
       "      <td>7.327584e+08</td>\n",
       "      <td>0</td>\n",
       "    </tr>\n",
       "    <tr>\n",
       "      <th>1</th>\n",
       "      <td>333320</td>\n",
       "      <td>2015-06-07 20:39:50</td>\n",
       "      <td>2015-06-08 01:38:54</td>\n",
       "      <td>16</td>\n",
       "      <td>EOGFQPIZPYXFZ</td>\n",
       "      <td>Ads</td>\n",
       "      <td>Chrome</td>\n",
       "      <td>F</td>\n",
       "      <td>53</td>\n",
       "      <td>3.503114e+08</td>\n",
       "      <td>0</td>\n",
       "    </tr>\n",
       "    <tr>\n",
       "      <th>2</th>\n",
       "      <td>1359</td>\n",
       "      <td>2015-01-01 18:52:44</td>\n",
       "      <td>2015-01-01 18:52:45</td>\n",
       "      <td>15</td>\n",
       "      <td>YSSKYOSJHPPLJ</td>\n",
       "      <td>SEO</td>\n",
       "      <td>Opera</td>\n",
       "      <td>M</td>\n",
       "      <td>53</td>\n",
       "      <td>2.621474e+09</td>\n",
       "      <td>1</td>\n",
       "    </tr>\n",
       "    <tr>\n",
       "      <th>3</th>\n",
       "      <td>150084</td>\n",
       "      <td>2015-04-28 21:13:25</td>\n",
       "      <td>2015-05-04 13:54:50</td>\n",
       "      <td>44</td>\n",
       "      <td>ATGTXKYKUDUQN</td>\n",
       "      <td>SEO</td>\n",
       "      <td>Safari</td>\n",
       "      <td>M</td>\n",
       "      <td>41</td>\n",
       "      <td>3.840542e+09</td>\n",
       "      <td>0</td>\n",
       "    </tr>\n",
       "    <tr>\n",
       "      <th>4</th>\n",
       "      <td>221365</td>\n",
       "      <td>2015-07-21 07:09:52</td>\n",
       "      <td>2015-09-09 18:40:53</td>\n",
       "      <td>39</td>\n",
       "      <td>NAUITBZFJKHWW</td>\n",
       "      <td>Ads</td>\n",
       "      <td>Safari</td>\n",
       "      <td>M</td>\n",
       "      <td>45</td>\n",
       "      <td>4.155831e+08</td>\n",
       "      <td>0</td>\n",
       "    </tr>\n",
       "  </tbody>\n",
       "</table>\n",
       "</div>"
      ],
      "text/plain": [
       "   user_id          signup_time        purchase_time  purchase_value  \\\n",
       "0    22058  2015-02-24 22:55:49  2015-04-18 02:47:11              34   \n",
       "1   333320  2015-06-07 20:39:50  2015-06-08 01:38:54              16   \n",
       "2     1359  2015-01-01 18:52:44  2015-01-01 18:52:45              15   \n",
       "3   150084  2015-04-28 21:13:25  2015-05-04 13:54:50              44   \n",
       "4   221365  2015-07-21 07:09:52  2015-09-09 18:40:53              39   \n",
       "\n",
       "       device_id source browser sex  age    ip_address  class  \n",
       "0  QVPSPJUOCKZAR    SEO  Chrome   M   39  7.327584e+08      0  \n",
       "1  EOGFQPIZPYXFZ    Ads  Chrome   F   53  3.503114e+08      0  \n",
       "2  YSSKYOSJHPPLJ    SEO   Opera   M   53  2.621474e+09      1  \n",
       "3  ATGTXKYKUDUQN    SEO  Safari   M   41  3.840542e+09      0  \n",
       "4  NAUITBZFJKHWW    Ads  Safari   M   45  4.155831e+08      0  "
      ]
     },
     "execution_count": 11,
     "metadata": {},
     "output_type": "execute_result"
    }
   ],
   "source": [
    "# Section 2: Load Raw Data\n",
    "\n",
    "fraud_df = pd.read_csv(\"../data/raw/Fraud_Data.csv\")\n",
    "ip_df = pd.read_csv(\"../data/raw/IpAddress_to_Country.csv\")\n",
    "\n",
    "print(\"📄 Fraud data shape:\", fraud_df.shape)\n",
    "print(\"📄 IP-to-country data shape:\", ip_df.shape)\n",
    "fraud_df.head()\n"
   ]
  },
  {
   "cell_type": "code",
   "execution_count": 7,
   "id": "ffc5f2d1",
   "metadata": {},
   "outputs": [
    {
     "name": "stdout",
     "output_type": "stream",
     "text": [
      "🔍 Missing values per column:\n",
      "user_id           0\n",
      "signup_time       0\n",
      "purchase_time     0\n",
      "purchase_value    0\n",
      "device_id         0\n",
      "source            0\n",
      "browser           0\n",
      "sex               0\n",
      "age               0\n",
      "ip_address        0\n",
      "class             0\n",
      "dtype: int64\n",
      "✅ Shape after dropping missing values: (151112, 11)\n"
     ]
    }
   ],
   "source": [
    "# Section 3: Handle Missing Values\n",
    "\n",
    "print(\"🔍 Missing values per column:\")\n",
    "print(fraud_df.isnull().sum())\n",
    "\n",
    "# Drop rows with missing values\n",
    "fraud_df = fraud_df.dropna()\n",
    "print(\"✅ Shape after dropping missing values:\", fraud_df.shape)\n"
   ]
  },
  {
   "cell_type": "code",
   "execution_count": 8,
   "id": "2d6931f3",
   "metadata": {},
   "outputs": [
    {
     "name": "stdout",
     "output_type": "stream",
     "text": [
      "✅ Cleaned data shape: (151112, 11)\n"
     ]
    },
    {
     "data": {
      "application/vnd.microsoft.datawrangler.viewer.v0+json": {
       "columns": [
        {
         "name": "index",
         "rawType": "object",
         "type": "string"
        },
        {
         "name": "0",
         "rawType": "object",
         "type": "unknown"
        }
       ],
       "ref": "ce4b6c31-8f24-423a-b99f-a035fba945c7",
       "rows": [
        [
         "user_id",
         "int64"
        ],
        [
         "signup_time",
         "datetime64[ns]"
        ],
        [
         "purchase_time",
         "datetime64[ns]"
        ],
        [
         "purchase_value",
         "int64"
        ],
        [
         "device_id",
         "object"
        ],
        [
         "source",
         "object"
        ],
        [
         "browser",
         "object"
        ],
        [
         "sex",
         "object"
        ],
        [
         "age",
         "int64"
        ],
        [
         "ip_address",
         "float64"
        ],
        [
         "class",
         "int64"
        ]
       ],
       "shape": {
        "columns": 1,
        "rows": 11
       }
      },
      "text/plain": [
       "user_id                    int64\n",
       "signup_time       datetime64[ns]\n",
       "purchase_time     datetime64[ns]\n",
       "purchase_value             int64\n",
       "device_id                 object\n",
       "source                    object\n",
       "browser                   object\n",
       "sex                       object\n",
       "age                        int64\n",
       "ip_address               float64\n",
       "class                      int64\n",
       "dtype: object"
      ]
     },
     "execution_count": 8,
     "metadata": {},
     "output_type": "execute_result"
    }
   ],
   "source": [
    "# Section 4: Data Cleaning\n",
    "\n",
    "# Remove duplicates\n",
    "fraud_df = fraud_df.drop_duplicates()\n",
    "\n",
    "# Convert datatypes\n",
    "fraud_df['signup_time'] = pd.to_datetime(fraud_df['signup_time'])\n",
    "fraud_df['purchase_time'] = pd.to_datetime(fraud_df['purchase_time'])\n",
    "\n",
    "# Ensure 'age' is numeric\n",
    "fraud_df['age'] = pd.to_numeric(fraud_df['age'], errors='coerce')\n",
    "fraud_df = fraud_df.dropna()\n",
    "\n",
    "print(\"✅ Cleaned data shape:\", fraud_df.shape)\n",
    "fraud_df.dtypes\n"
   ]
  },
  {
   "cell_type": "code",
   "execution_count": 9,
   "id": "22958280",
   "metadata": {},
   "outputs": [
    {
     "data": {
      "image/png": "[encoded data removed]",
      "text/plain": [
       "<Figure size 640x480 with 1 Axes>"
      ]
     },
     "metadata": {},
     "output_type": "display_data"
    },
    {
     "data": {
      "image/png": "[encoded data removed]",
      "text/plain": [
       "<Figure size 640x480 with 1 Axes>"
      ]
     },
     "metadata": {},
     "output_type": "display_data"
    },
    {
     "data": {
      "image/png": "[encoded data removed]",
      "text/plain": [
       "<Figure size 640x480 with 1 Axes>"
      ]
     },
     "metadata": {},
     "output_type": "display_data"
    }
   ],
   "source": [
    "# Section 5: Exploratory Data Analysis\n",
    "\n",
    "# Class distribution\n",
    "sns.countplot(data=fraud_df, x='class')\n",
    "plt.title(\"Class Distribution (0: Legit, 1: Fraud)\")\n",
    "plt.show()\n",
    "\n",
    "# Fraud by gender\n",
    "sns.countplot(data=fraud_df, x='sex', hue='class')\n",
    "plt.title(\"Fraud Distribution by Gender\")\n",
    "plt.show()\n",
    "\n",
    "# Age distribution\n",
    "fraud_df['age'].hist(bins=30)\n",
    "plt.title(\"Age Distribution\")\n",
    "plt.xlabel(\"Age\")\n",
    "plt.ylabel(\"Frequency\")\n",
    "plt.show()\n"
   ]
  },
  {
   "cell_type": "code",
   "execution_count": null,
   "id": "6702228b",
   "metadata": {},
   "outputs": [
    {
     "name": "stdout",
     "output_type": "stream",
     "text": [
      "✅ IP to country mapping completed!\n"
     ]
    },
    {
     "data": {
      "application/vnd.microsoft.datawrangler.viewer.v0+json": {
       "columns": [
        {
         "name": "index",
         "rawType": "int64",
         "type": "integer"
        },
        {
         "name": "ip_address",
         "rawType": "float64",
         "type": "float"
        },
        {
         "name": "ip_int",
         "rawType": "int64",
         "type": "integer"
        },
        {
         "name": "country",
         "rawType": "object",
         "type": "string"
        }
       ],
       "ref": "a0f782cc-2b36-4aae-abc1-f701de964b3f",
       "rows": [
        [
         "0",
         "732758368.79972",
         "732758368",
         "Japan"
        ],
        [
         "1",
         "350311387.865908",
         "350311387",
         "United States"
        ],
        [
         "2",
         "2621473820.11095",
         "2621473820",
         "United States"
        ],
        [
         "3",
         "3840542443.91396",
         "3840542443",
         "Unknown"
        ],
        [
         "4",
         "415583117.452712",
         "415583117",
         "United States"
        ]
       ],
       "shape": {
        "columns": 3,
        "rows": 5
       }
      },
      "text/html": [
       "<div>\n",
       "<style scoped>\n",
       "    .dataframe tbody tr th:only-of-type {\n",
       "        vertical-align: middle;\n",
       "    }\n",
       "\n",
       "    .dataframe tbody tr th {\n",
       "        vertical-align: top;\n",
       "    }\n",
       "\n",
       "    .dataframe thead th {\n",
       "        text-align: right;\n",
       "    }\n",
       "</style>\n",
       "<table border=\"1\" class=\"dataframe\">\n",
       "  <thead>\n",
       "    <tr style=\"text-align: right;\">\n",
       "      <th></th>\n",
       "      <th>ip_address</th>\n",
       "      <th>ip_int</th>\n",
       "      <th>country</th>\n",
       "    </tr>\n",
       "  </thead>\n",
       "  <tbody>\n",
       "    <tr>\n",
       "      <th>0</th>\n",
       "      <td>7.327584e+08</td>\n",
       "      <td>732758368</td>\n",
       "      <td>Japan</td>\n",
       "    </tr>\n",
       "    <tr>\n",
       "      <th>1</th>\n",
       "      <td>3.503114e+08</td>\n",
       "      <td>350311387</td>\n",
       "      <td>United States</td>\n",
       "    </tr>\n",
       "    <tr>\n",
       "      <th>2</th>\n",
       "      <td>2.621474e+09</td>\n",
       "      <td>2621473820</td>\n",
       "      <td>United States</td>\n",
       "    </tr>\n",
       "    <tr>\n",
       "      <th>3</th>\n",
       "      <td>3.840542e+09</td>\n",
       "      <td>3840542443</td>\n",
       "      <td>Unknown</td>\n",
       "    </tr>\n",
       "    <tr>\n",
       "      <th>4</th>\n",
       "      <td>4.155831e+08</td>\n",
       "      <td>415583117</td>\n",
       "      <td>United States</td>\n",
       "    </tr>\n",
       "  </tbody>\n",
       "</table>\n",
       "</div>"
      ],
      "text/plain": [
       "     ip_address      ip_int        country\n",
       "0  7.327584e+08   732758368          Japan\n",
       "1  3.503114e+08   350311387  United States\n",
       "2  2.621474e+09  2621473820  United States\n",
       "3  3.840542e+09  3840542443        Unknown\n",
       "4  4.155831e+08   415583117  United States"
      ]
     },
     "execution_count": 13,
     "metadata": {},
     "output_type": "execute_result"
    }
   ],
   "source": [
    "# Section 6: Merge IP to Country\n",
    "\n",
    "def convert_ip_to_int(ip_str):\n",
    "    parts = list(map(int, ip_str.split(\".\")))\n",
    "    return (16777216 * parts[0]) + (65536 * parts[1]) + (256 * parts[2]) + parts[3]\n",
    "\n",
    "fraud_df['ip_int'] = fraud_df['ip_address'].apply(convert_ip_to_int)\n",
    "ip_df['lower_bound_ip_address'] = ip_df['lower_bound_ip_address'].apply(convert_ip_to_int)\n",
    "ip_df['upper_bound_ip_address'] = ip_df['upper_bound_ip_address'].apply(convert_ip_to_int)\n",
    "\n",
    "ip_df_sorted = ip_df.sort_values(by='lower_bound_ip_address')\n",
    "\n",
    "def find_country(ip):\n",
    "    match = ip_df_sorted[(ip_df_sorted['lower_bound_ip_address'] <= ip) &\n",
    "                         (ip_df_sorted['upper_bound_ip_address'] >= ip)]\n",
    "    if not match.empty:\n",
    "        return match.iloc[0]['country']\n",
    "    return \"Unknown\"\n",
    "\n",
    "fraud_df['country'] = fraud_df['ip_int'].apply(find_country)\n",
    "fraud_df[['ip_address', 'country']].head()\n"
   ]
  },
  {
   "cell_type": "code",
   "execution_count": 14,
   "id": "c839005f",
   "metadata": {},
   "outputs": [
    {
     "name": "stdout",
     "output_type": "stream",
     "text": [
      "🌍 Country Distribution:\n",
      "country\n",
      "United States        58049\n",
      "Unknown              21966\n",
      "China                12038\n",
      "Japan                 7306\n",
      "United Kingdom        4490\n",
      "Korea Republic of     4162\n",
      "Germany               3646\n",
      "France                3161\n",
      "Canada                2975\n",
      "Brazil                2961\n",
      "Name: count, dtype: int64\n",
      "\n",
      "📊 Countries identified: 182\n",
      "Unknown countries: 21966\n"
     ]
    },
    {
     "data": {
      "image/png": "[encoded data removed]",
      "text/plain": [
       "<Figure size 1200x600 with 1 Axes>"
      ]
     },
     "metadata": {},
     "output_type": "display_data"
    }
   ],
   "source": [
    "# Country distribution analysis\n",
    "print(\"🌍 Country Distribution:\")\n",
    "country_counts = fraud_df['country'].value_counts()\n",
    "print(country_counts.head(10))\n",
    "\n",
    "print(f\"\\n📊 Countries identified: {len(country_counts)}\")\n",
    "print(f\"Unknown countries: {(fraud_df['country'] == 'Unknown').sum()}\")\n",
    "\n",
    "# Visualize top countries\n",
    "plt.figure(figsize=(12, 6))\n",
    "country_counts.head(10).plot(kind='bar')\n",
    "plt.title('Top 10 Countries by Transaction Count')\n",
    "plt.xlabel('Country')\n",
    "plt.ylabel('Number of Transactions')\n",
    "plt.xticks(rotation=45)\n",
    "plt.tight_layout()\n",
    "plt.show()"
   ]
  },
  {
   "cell_type": "code",
   "execution_count": 17,
   "id": "868c71ba",
   "metadata": {},
   "outputs": [
    {
     "name": "stdout",
     "output_type": "stream",
     "text": [
      "🔍 Checking datetime columns...\n",
      "signup_time dtype: datetime64[ns]\n",
      "purchase_time dtype: datetime64[ns]\n",
      "✅ Datetime conversion completed!\n",
      "signup_time dtype: datetime64[ns]\n",
      "purchase_time dtype: datetime64[ns]\n",
      "✅ Feature engineering completed!\n",
      "📊 Dataset shape after feature engineering: (151112, 20)\n",
      "📊 New features created: ['signup_hour', 'purchase_hour', 'signup_day_of_week', 'purchase_day_of_week', 'time_diff_hours', 'age_group', 'purchase_category']\n"
     ]
    },
    {
     "data": {
      "application/vnd.microsoft.datawrangler.viewer.v0+json": {
       "columns": [
        {
         "name": "index",
         "rawType": "int64",
         "type": "integer"
        },
        {
         "name": "signup_hour",
         "rawType": "int32",
         "type": "integer"
        },
        {
         "name": "purchase_hour",
         "rawType": "int32",
         "type": "integer"
        },
        {
         "name": "time_diff_hours",
         "rawType": "float64",
         "type": "float"
        },
        {
         "name": "age_group",
         "rawType": "category",
         "type": "unknown"
        },
        {
         "name": "purchase_category",
         "rawType": "category",
         "type": "unknown"
        },
        {
         "name": "class",
         "rawType": "int64",
         "type": "integer"
        }
       ],
       "ref": "de6efc62-b479-44db-bdba-6a9e5287a75f",
       "rows": [
        [
         "0",
         "22",
         "2",
         "1251.8561111111112",
         "36-50",
         "Very Low",
         "0"
        ],
        [
         "1",
         "20",
         "1",
         "4.984444444444445",
         "51-65",
         "Very Low",
         "0"
        ],
        [
         "2",
         "18",
         "18",
         "0.0002777777777777778",
         "51-65",
         "Very Low",
         "1"
        ],
        [
         "3",
         "21",
         "13",
         "136.69027777777777",
         "36-50",
         "Very Low",
         "0"
        ],
        [
         "4",
         "7",
         "18",
         "1211.5169444444443",
         "36-50",
         "Very Low",
         "0"
        ]
       ],
       "shape": {
        "columns": 6,
        "rows": 5
       }
      },
      "text/html": [
       "<div>\n",
       "<style scoped>\n",
       "    .dataframe tbody tr th:only-of-type {\n",
       "        vertical-align: middle;\n",
       "    }\n",
       "\n",
       "    .dataframe tbody tr th {\n",
       "        vertical-align: top;\n",
       "    }\n",
       "\n",
       "    .dataframe thead th {\n",
       "        text-align: right;\n",
       "    }\n",
       "</style>\n",
       "<table border=\"1\" class=\"dataframe\">\n",
       "  <thead>\n",
       "    <tr style=\"text-align: right;\">\n",
       "      <th></th>\n",
       "      <th>signup_hour</th>\n",
       "      <th>purchase_hour</th>\n",
       "      <th>time_diff_hours</th>\n",
       "      <th>age_group</th>\n",
       "      <th>purchase_category</th>\n",
       "      <th>class</th>\n",
       "    </tr>\n",
       "  </thead>\n",
       "  <tbody>\n",
       "    <tr>\n",
       "      <th>0</th>\n",
       "      <td>22</td>\n",
       "      <td>2</td>\n",
       "      <td>1251.856111</td>\n",
       "      <td>36-50</td>\n",
       "      <td>Very Low</td>\n",
       "      <td>0</td>\n",
       "    </tr>\n",
       "    <tr>\n",
       "      <th>1</th>\n",
       "      <td>20</td>\n",
       "      <td>1</td>\n",
       "      <td>4.984444</td>\n",
       "      <td>51-65</td>\n",
       "      <td>Very Low</td>\n",
       "      <td>0</td>\n",
       "    </tr>\n",
       "    <tr>\n",
       "      <th>2</th>\n",
       "      <td>18</td>\n",
       "      <td>18</td>\n",
       "      <td>0.000278</td>\n",
       "      <td>51-65</td>\n",
       "      <td>Very Low</td>\n",
       "      <td>1</td>\n",
       "    </tr>\n",
       "    <tr>\n",
       "      <th>3</th>\n",
       "      <td>21</td>\n",
       "      <td>13</td>\n",
       "      <td>136.690278</td>\n",
       "      <td>36-50</td>\n",
       "      <td>Very Low</td>\n",
       "      <td>0</td>\n",
       "    </tr>\n",
       "    <tr>\n",
       "      <th>4</th>\n",
       "      <td>7</td>\n",
       "      <td>18</td>\n",
       "      <td>1211.516944</td>\n",
       "      <td>36-50</td>\n",
       "      <td>Very Low</td>\n",
       "      <td>0</td>\n",
       "    </tr>\n",
       "  </tbody>\n",
       "</table>\n",
       "</div>"
      ],
      "text/plain": [
       "   signup_hour  purchase_hour  time_diff_hours age_group purchase_category  \\\n",
       "0           22              2      1251.856111     36-50          Very Low   \n",
       "1           20              1         4.984444     51-65          Very Low   \n",
       "2           18             18         0.000278     51-65          Very Low   \n",
       "3           21             13       136.690278     36-50          Very Low   \n",
       "4            7             18      1211.516944     36-50          Very Low   \n",
       "\n",
       "   class  \n",
       "0      0  \n",
       "1      0  \n",
       "2      1  \n",
       "3      0  \n",
       "4      0  "
      ]
     },
     "execution_count": 17,
     "metadata": {},
     "output_type": "execute_result"
    }
   ],
   "source": [
    "# Section 7: Feature Engineering\n",
    "\n",
    "# Check and fix datetime columns first\n",
    "print(\"🔍 Checking datetime columns...\")\n",
    "print(f\"signup_time dtype: {fraud_df['signup_time'].dtype}\")\n",
    "print(f\"purchase_time dtype: {fraud_df['purchase_time'].dtype}\")\n",
    "\n",
    "# Convert to datetime if not already\n",
    "if fraud_df['signup_time'].dtype == 'object':\n",
    "    fraud_df['signup_time'] = pd.to_datetime(fraud_df['signup_time'], errors='coerce')\n",
    "if fraud_df['purchase_time'].dtype == 'object':\n",
    "    fraud_df['purchase_time'] = pd.to_datetime(fraud_df['purchase_time'], errors='coerce')\n",
    "\n",
    "# Remove any rows where datetime conversion failed\n",
    "fraud_df = fraud_df.dropna(subset=['signup_time', 'purchase_time'])\n",
    "\n",
    "print(\"✅ Datetime conversion completed!\")\n",
    "print(f\"signup_time dtype: {fraud_df['signup_time'].dtype}\")\n",
    "print(f\"purchase_time dtype: {fraud_df['purchase_time'].dtype}\")\n",
    "\n",
    "# Create time-based features\n",
    "fraud_df['signup_hour'] = fraud_df['signup_time'].dt.hour\n",
    "fraud_df['purchase_hour'] = fraud_df['purchase_time'].dt.hour\n",
    "fraud_df['signup_day_of_week'] = fraud_df['signup_time'].dt.dayofweek\n",
    "fraud_df['purchase_day_of_week'] = fraud_df['purchase_time'].dt.dayofweek\n",
    "\n",
    "# Time difference between signup and purchase\n",
    "fraud_df['time_diff_hours'] = (fraud_df['purchase_time'] - fraud_df['signup_time']).dt.total_seconds() / 3600\n",
    "\n",
    "# Age groups\n",
    "fraud_df['age_group'] = pd.cut(fraud_df['age'], \n",
    "                               bins=[0, 25, 35, 50, 65, 100], \n",
    "                               labels=['18-25', '26-35', '36-50', '51-65', '65+'])\n",
    "\n",
    "# Purchase value categories\n",
    "fraud_df['purchase_category'] = pd.cut(fraud_df['purchase_value'], \n",
    "                                       bins=[0, 50, 100, 200, 500, float('inf')], \n",
    "                                       labels=['Very Low', 'Low', 'Medium', 'High', 'Very High'])\n",
    "\n",
    "print(\"✅ Feature engineering completed!\")\n",
    "print(f\"📊 Dataset shape after feature engineering: {fraud_df.shape}\")\n",
    "print(f\"📊 New features created: {['signup_hour', 'purchase_hour', 'signup_day_of_week', 'purchase_day_of_week', 'time_diff_hours', 'age_group', 'purchase_category']}\")\n",
    "\n",
    "# Display sample of new features\n",
    "fraud_df[['signup_hour', 'purchase_hour', 'time_diff_hours', 'age_group', 'purchase_category', 'class']].head()"
   ]
  },
  {
   "cell_type": "code",
   "execution_count": 18,
   "id": "258752af",
   "metadata": {},
   "outputs": [
    {
     "name": "stdout",
     "output_type": "stream",
     "text": [
      "🔄 Encoding categorical variables...\n",
      "✅ Encoded sex: 2 unique values\n",
      "✅ Encoded age_group: 5 unique values\n",
      "✅ Encoded purchase_category: 3 unique values\n",
      "✅ Encoded country: 182 unique values\n",
      "📊 Features selected: 13\n",
      "📊 Feature names: ['user_id', 'age', 'purchase_value', 'ip_int', 'signup_hour', 'purchase_hour', 'signup_day_of_week', 'purchase_day_of_week', 'time_diff_hours', 'sex_encoded', 'age_group_encoded', 'purchase_category_encoded', 'country_encoded']\n",
      "✅ Data transformation completed!\n",
      "📊 Training set shape: (120889, 13)\n",
      "📊 Test set shape: (30223, 13)\n",
      "📊 Class distribution in training set:\n",
      "class\n",
      "0    0.906352\n",
      "1    0.093648\n",
      "Name: proportion, dtype: float64\n"
     ]
    }
   ],
   "source": [
    "# Section 8: Data Transformation (Encoding & Scaling)\n",
    "\n",
    "from sklearn.preprocessing import LabelEncoder, StandardScaler\n",
    "from sklearn.model_selection import train_test_split\n",
    "\n",
    "# Create a copy for transformation\n",
    "processed_df = fraud_df.copy()\n",
    "\n",
    "# Initialize encoders\n",
    "label_encoders = {}\n",
    "\n",
    "# Encode categorical variables\n",
    "categorical_columns = ['sex', 'age_group', 'purchase_category', 'country']\n",
    "\n",
    "print(\"🔄 Encoding categorical variables...\")\n",
    "for col in categorical_columns:\n",
    "    if col in processed_df.columns:\n",
    "        le = LabelEncoder()\n",
    "        processed_df[col + '_encoded'] = le.fit_transform(processed_df[col].astype(str))\n",
    "        label_encoders[col] = le\n",
    "        print(f\"✅ Encoded {col}: {len(le.classes_)} unique values\")\n",
    "\n",
    "# Select features for modeling\n",
    "feature_columns = [\n",
    "    'user_id', 'age', 'purchase_value', 'ip_int',\n",
    "    'signup_hour', 'purchase_hour', 'signup_day_of_week', 'purchase_day_of_week',\n",
    "    'time_diff_hours', 'sex_encoded', 'age_group_encoded', \n",
    "    'purchase_category_encoded', 'country_encoded'\n",
    "]\n",
    "\n",
    "# Remove any columns that don't exist\n",
    "feature_columns = [col for col in feature_columns if col in processed_df.columns]\n",
    "\n",
    "X = processed_df[feature_columns]\n",
    "y = processed_df['class']\n",
    "\n",
    "print(f\"📊 Features selected: {len(feature_columns)}\")\n",
    "print(f\"📊 Feature names: {feature_columns}\")\n",
    "\n",
    "# Split the data\n",
    "X_train, X_test, y_train, y_test = train_test_split(X, y, test_size=0.2, random_state=42, stratify=y)\n",
    "\n",
    "# Scale numerical features\n",
    "scaler = StandardScaler()\n",
    "numerical_features = ['age', 'purchase_value', 'ip_int', 'time_diff_hours']\n",
    "numerical_features = [col for col in numerical_features if col in X.columns]\n",
    "\n",
    "X_train_scaled = X_train.copy()\n",
    "X_test_scaled = X_test.copy()\n",
    "\n",
    "X_train_scaled[numerical_features] = scaler.fit_transform(X_train[numerical_features])\n",
    "X_test_scaled[numerical_features] = scaler.transform(X_test[numerical_features])\n",
    "\n",
    "print(\"✅ Data transformation completed!\")\n",
    "print(f\"📊 Training set shape: {X_train_scaled.shape}\")\n",
    "print(f\"📊 Test set shape: {X_test_scaled.shape}\")\n",
    "print(f\"📊 Class distribution in training set:\")\n",
    "print(y_train.value_counts(normalize=True))"
   ]
  },
  {
   "cell_type": "code",
   "execution_count": 22,
   "id": "fc7c7886",
   "metadata": {},
   "outputs": [
    {
     "name": "stdout",
     "output_type": "stream",
     "text": [
      "📊 Original class distribution:\n",
      "class\n",
      "0    109568\n",
      "1     11321\n",
      "Name: count, dtype: int64\n",
      "\n",
      "Class proportions:\n",
      "class\n",
      "0    0.906352\n",
      "1    0.093648\n",
      "Name: proportion, dtype: float64\n",
      "\n",
      "📊 After SMOTE balancing:\n",
      "class\n",
      "0    109568\n",
      "1    109568\n",
      "Name: count, dtype: int64\n",
      "\n",
      "Balanced class proportions:\n",
      "class\n",
      "0    0.5\n",
      "1    0.5\n",
      "Name: proportion, dtype: float64\n",
      "\n",
      "✅ Training set balanced from 120889 to 219136 samples\n"
     ]
    },
    {
     "data": {
      "image/png": "[encoded data removed]",
      "text/plain": [
       "<Figure size 1200x400 with 2 Axes>"
      ]
     },
     "metadata": {},
     "output_type": "display_data"
    }
   ],
   "source": [
    "# Section 9: Class Imbalance Handling\n",
    "\n",
    "print(\"📊 Original class distribution:\")\n",
    "print(y_train.value_counts())\n",
    "print(\"\\nClass proportions:\")\n",
    "print(y_train.value_counts(normalize=True))\n",
    "\n",
    "# Apply SMOTE to handle class imbalance\n",
    "smote = SMOTE(random_state=42)\n",
    "X_train_balanced, y_train_balanced = smote.fit_resample(X_train_scaled, y_train)\n",
    "\n",
    "print(\"\\n📊 After SMOTE balancing:\")\n",
    "print(pd.Series(y_train_balanced).value_counts())\n",
    "print(\"\\nBalanced class proportions:\")\n",
    "print(pd.Series(y_train_balanced).value_counts(normalize=True))\n",
    "\n",
    "print(f\"\\n✅ Training set balanced from {X_train_scaled.shape[0]} to {X_train_balanced.shape[0]} samples\")\n",
    "\n",
    "# Visualize class distribution before and after SMOTE\n",
    "fig, (ax1, ax2) = plt.subplots(1, 2, figsize=(12, 4))\n",
    "\n",
    "# Before SMOTE\n",
    "y_train.value_counts().plot(kind='bar', ax=ax1, color=['skyblue', 'salmon'])\n",
    "ax1.set_title('Class Distribution Before SMOTE')\n",
    "ax1.set_xlabel('Class (0: Legit, 1: Fraud)')\n",
    "ax1.set_ylabel('Count')\n",
    "ax1.tick_params(axis='x', rotation=0)\n",
    "\n",
    "# After SMOTE\n",
    "pd.Series(y_train_balanced).value_counts().plot(kind='bar', ax=ax2, color=['skyblue', 'salmon'])\n",
    "ax2.set_title('Class Distribution After SMOTE')\n",
    "ax2.set_xlabel('Class (0: Legit, 1: Fraud)')\n",
    "ax2.set_ylabel('Count')\n",
    "ax2.tick_params(axis='x', rotation=0)\n",
    "\n",
    "plt.tight_layout()\n",
    "plt.show()"
   ]
  },
  {
   "cell_type": "code",
   "execution_count": 23,
   "id": "13b93512",
   "metadata": {},
   "outputs": [
    {
     "name": "stdout",
     "output_type": "stream",
     "text": [
      "💾 Saving preprocessed data...\n",
      "✅ Saved cleaned fraud data\n",
      "✅ Saved training and test sets\n",
      "✅ Saved preprocessing objects (scaler, encoders)\n",
      "✅ Saved feature information\n",
      "\n",
      "📋 Summary of preprocessed data:\n",
      "   • Original dataset shape: (151112, 20)\n",
      "   • Training set shape: (120889, 13)\n",
      "   • Test set shape: (30223, 13)\n",
      "   • Balanced training set shape: (219136, 13)\n",
      "   • Number of features: 13\n",
      "   • Class distribution (original): {0: np.int64(109568), 1: np.int64(11321)}\n",
      "   • Class distribution (balanced): {0: np.int64(109568), 1: np.int64(109568)}\n",
      "\n",
      "🎉 Data preprocessing completed successfully!\n",
      "📁 All processed files saved to: ../data/processed/\n",
      "\n",
      "📋 Files created:\n",
      "   • fraud_data_cleaned.csv - Complete cleaned dataset\n",
      "   • X_train_scaled.csv, y_train.csv - Training data\n",
      "   • X_test_scaled.csv, y_test.csv - Test data\n",
      "   • X_train_balanced.csv, y_train_balanced.csv - Balanced training data\n",
      "   • scaler.pkl - StandardScaler object\n",
      "   • label_encoders.pkl - Label encoders for categorical variables\n",
      "   • feature_info.json - Feature metadata\n"
     ]
    }
   ],
   "source": [
    "# Section 10: Save Preprocessed Data\n",
    "\n",
    "import pickle\n",
    "import json\n",
    "\n",
    "# Create processed data directory if it doesn't exist\n",
    "os.makedirs(\"../data/processed\", exist_ok=True)\n",
    "\n",
    "print(\"💾 Saving preprocessed data...\")\n",
    "\n",
    "# Save the cleaned and feature-engineered dataframe\n",
    "fraud_df.to_csv(\"../data/processed/fraud_data_cleaned.csv\", index=False)\n",
    "print(\"✅ Saved cleaned fraud data\")\n",
    "\n",
    "# Save processed datasets for modeling\n",
    "X_train_scaled.to_csv(\"../data/processed/X_train_scaled.csv\", index=False)\n",
    "X_test_scaled.to_csv(\"../data/processed/X_test_scaled.csv\", index=False)\n",
    "y_train.to_csv(\"../data/processed/y_train.csv\", index=False)\n",
    "y_test.to_csv(\"../data/processed/y_test.csv\", index=False)\n",
    "\n",
    "# Save balanced training data\n",
    "pd.DataFrame(X_train_balanced, columns=X_train_scaled.columns).to_csv(\"../data/processed/X_train_balanced.csv\", index=False)\n",
    "pd.Series(y_train_balanced, name='class').to_csv(\"../data/processed/y_train_balanced.csv\", index=False)\n",
    "\n",
    "print(\"✅ Saved training and test sets\")\n",
    "\n",
    "# Save preprocessing objects\n",
    "with open(\"../data/processed/scaler.pkl\", \"wb\") as f:\n",
    "    pickle.dump(scaler, f)\n",
    "\n",
    "with open(\"../data/processed/label_encoders.pkl\", \"wb\") as f:\n",
    "    pickle.dump(label_encoders, f)\n",
    "\n",
    "print(\"✅ Saved preprocessing objects (scaler, encoders)\")\n",
    "\n",
    "# Save feature information\n",
    "feature_info = {\n",
    "    \"feature_columns\": feature_columns,\n",
    "    \"numerical_features\": numerical_features,\n",
    "    \"categorical_columns\": categorical_columns,\n",
    "    \"total_features\": len(feature_columns)\n",
    "}\n",
    "\n",
    "with open(\"../data/processed/feature_info.json\", \"w\") as f:\n",
    "    json.dump(feature_info, f, indent=2)\n",
    "\n",
    "print(\"✅ Saved feature information\")\n",
    "\n",
    "# Summary of saved files\n",
    "print(\"\\n📋 Summary of preprocessed data:\")\n",
    "print(f\"   • Original dataset shape: {fraud_df.shape}\")\n",
    "print(f\"   • Training set shape: {X_train_scaled.shape}\")\n",
    "print(f\"   • Test set shape: {X_test_scaled.shape}\")\n",
    "print(f\"   • Balanced training set shape: {X_train_balanced.shape}\")\n",
    "print(f\"   • Number of features: {len(feature_columns)}\")\n",
    "print(f\"   • Class distribution (original): {dict(y_train.value_counts())}\")\n",
    "print(f\"   • Class distribution (balanced): {dict(pd.Series(y_train_balanced).value_counts())}\")\n",
    "\n",
    "print(\"\\n🎉 Data preprocessing completed successfully!\")\n",
    "print(\"📁 All processed files saved to: ../data/processed/\")\n",
    "print(\"\\n📋 Files created:\")\n",
    "print(\"   • fraud_data_cleaned.csv - Complete cleaned dataset\")\n",
    "print(\"   • X_train_scaled.csv, y_train.csv - Training data\")\n",
    "print(\"   • X_test_scaled.csv, y_test.csv - Test data\")\n",
    "print(\"   • X_train_balanced.csv, y_train_balanced.csv - Balanced training data\")\n",
    "print(\"   • scaler.pkl - StandardScaler object\")\n",
    "print(\"   • label_encoders.pkl - Label encoders for categorical variables\")\n",
    "print(\"   • feature_info.json - Feature metadata\")"
   ]
  },
  {
   "cell_type": "code",
   "execution_count": null,
   "id": "7a4ebde4",
   "metadata": {},
   "outputs": [],
   "source": []
  }
 ],
 "metadata": {
  "kernelspec": {
   "display_name": ".venv",
   "language": "python",
   "name": "python3"
  },
  "language_info": {
   "codemirror_mode": {
    "name": "ipython",
    "version": 3
   },
   "file_extension": ".py",
   "mimetype": "text/x-python",
   "name": "python",
   "nbconvert_exporter": "python",
   "pygments_lexer": "ipython3",
   "version": "3.10.17"
  }
 },
 "nbformat": 4,
 "nbformat_minor": 5
}
